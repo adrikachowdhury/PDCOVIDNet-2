{
  "nbformat": 4,
  "nbformat_minor": 0,
  "metadata": {
    "colab": {
      "provenance": [],
      "gpuType": "T4"
    },
    "kernelspec": {
      "name": "python3",
      "display_name": "Python 3"
    },
    "language_info": {
      "name": "python"
    },
    "accelerator": "GPU"
  },
  "cells": [
    {
      "cell_type": "markdown",
      "source": [
        "## **Import Necessary Libraries**"
      ],
      "metadata": {
        "id": "zBLTdjOWIAlh"
      }
    },
    {
      "cell_type": "code",
      "source": [
        "import os\n",
        "import time\n",
        "import torch\n",
        "import numpy as np\n",
        "import torch.nn as nn\n",
        "import torch.optim as optim\n",
        "import torchvision.transforms as transforms\n",
        "import torchvision.datasets as datasets\n",
        "from torch.utils.data import DataLoader\n",
        "from sklearn.metrics import *\n",
        "from google.colab import files\n",
        "import matplotlib.pyplot as plt\n",
        "import torch.nn.functional as F\n",
        "import matplotlib.pyplot as plt\n",
        "from torch.utils.data import WeightedRandomSampler"
      ],
      "metadata": {
        "id": "k0Q-zVmuH2Oy"
      },
      "execution_count": null,
      "outputs": []
    },
    {
      "cell_type": "markdown",
      "source": [
        "##**Upload KAGGLE.JSON FILE**"
      ],
      "metadata": {
        "id": "fw651cSwi_ZN"
      }
    },
    {
      "cell_type": "code",
      "execution_count": null,
      "metadata": {
        "id": "DW-OfrAS4-rq"
      },
      "outputs": [],
      "source": [
        "files.upload()"
      ]
    },
    {
      "cell_type": "markdown",
      "source": [
        "##**Extract dataset**"
      ],
      "metadata": {
        "id": "SJyrs8PZjGXw"
      }
    },
    {
      "cell_type": "code",
      "source": [
        "!mkdir -p ~/.kaggle\n",
        "!mv kaggle.json ~/.kaggle/\n",
        "!chmod 600 ~/.kaggle/kaggle.json\n",
        "\n",
        "# Install and authenticate Kaggle\n",
        "!pip install kaggle\n",
        "!kaggle datasets download -d alsaniipe/chest-x-ray-image\n",
        "\n",
        "# Extract dataset\n",
        "!unzip -q chest-x-ray-image.zip -d chest_xray_dataset"
      ],
      "metadata": {
        "colab": {
          "base_uri": "https://localhost:8080/"
        },
        "id": "5AfaIiuJhXm8",
        "outputId": "ec648459-6660-4e9f-fb1f-880f54220004"
      },
      "execution_count": null,
      "outputs": [
        {
          "output_type": "stream",
          "name": "stdout",
          "text": [
            "Requirement already satisfied: kaggle in /usr/local/lib/python3.11/dist-packages (1.7.4.2)\n",
            "Requirement already satisfied: bleach in /usr/local/lib/python3.11/dist-packages (from kaggle) (6.2.0)\n",
            "Requirement already satisfied: certifi>=14.05.14 in /usr/local/lib/python3.11/dist-packages (from kaggle) (2025.1.31)\n",
            "Requirement already satisfied: charset-normalizer in /usr/local/lib/python3.11/dist-packages (from kaggle) (3.4.1)\n",
            "Requirement already satisfied: idna in /usr/local/lib/python3.11/dist-packages (from kaggle) (3.10)\n",
            "Requirement already satisfied: protobuf in /usr/local/lib/python3.11/dist-packages (from kaggle) (5.29.4)\n",
            "Requirement already satisfied: python-dateutil>=2.5.3 in /usr/local/lib/python3.11/dist-packages (from kaggle) (2.8.2)\n",
            "Requirement already satisfied: python-slugify in /usr/local/lib/python3.11/dist-packages (from kaggle) (8.0.4)\n",
            "Requirement already satisfied: requests in /usr/local/lib/python3.11/dist-packages (from kaggle) (2.32.3)\n",
            "Requirement already satisfied: setuptools>=21.0.0 in /usr/local/lib/python3.11/dist-packages (from kaggle) (75.2.0)\n",
            "Requirement already satisfied: six>=1.10 in /usr/local/lib/python3.11/dist-packages (from kaggle) (1.17.0)\n",
            "Requirement already satisfied: text-unidecode in /usr/local/lib/python3.11/dist-packages (from kaggle) (1.3)\n",
            "Requirement already satisfied: tqdm in /usr/local/lib/python3.11/dist-packages (from kaggle) (4.67.1)\n",
            "Requirement already satisfied: urllib3>=1.15.1 in /usr/local/lib/python3.11/dist-packages (from kaggle) (2.3.0)\n",
            "Requirement already satisfied: webencodings in /usr/local/lib/python3.11/dist-packages (from kaggle) (0.5.1)\n",
            "Dataset URL: https://www.kaggle.com/datasets/alsaniipe/chest-x-ray-image\n",
            "License(s): apache-2.0\n"
          ]
        }
      ]
    },
    {
      "cell_type": "markdown",
      "source": [
        "# **Instances check**"
      ],
      "metadata": {
        "id": "Nl5eo5cTcCrH"
      }
    },
    {
      "cell_type": "code",
      "source": [
        "# Define dataset paths (Update with actual paths)\n",
        "train_path = \"chest_xray_dataset/Data/train\"\n",
        "test_path = \"chest_xray_dataset/Data/test\"\n",
        "\n",
        "# List all class folders\n",
        "classes = [\"COVID19\", \"PNEUMONIA\", \"NORMAL\"]\n",
        "\n",
        "# Function to count images in each class\n",
        "def count_images(dataset_path):\n",
        "    return {cls: len(os.listdir(os.path.join(dataset_path, cls))) for cls in classes}\n",
        "\n",
        "# Get class distributions\n",
        "train_counts = count_images(train_path)\n",
        "test_counts = count_images(test_path)\n",
        "\n",
        "# Plot distribution\n",
        "fig, axes = plt.subplots(1, 2, figsize=(12, 5))\n",
        "\n",
        "# Training set\n",
        "bars_train = axes[0].bar(train_counts.keys(), train_counts.values(), color=['green', 'red', 'blue'])\n",
        "axes[0].set_title(\"Train Set Distribution\")\n",
        "axes[0].set_xlabel(\"Class\")\n",
        "axes[0].set_ylabel(\"Number of Images\")\n",
        "\n",
        "# Adding numbers on top of bars\n",
        "for bar in bars_train:\n",
        "    height = bar.get_height()\n",
        "    axes[0].text(bar.get_x() + bar.get_width()/2, height, str(height), ha='center', va='bottom', fontsize=12, fontweight='bold')\n",
        "\n",
        "# Testing set\n",
        "bars_test = axes[1].bar(test_counts.keys(), test_counts.values(), color=['green', 'red', 'blue'])\n",
        "axes[1].set_title(\"Test Set Distribution\")\n",
        "axes[1].set_xlabel(\"Class\")\n",
        "\n",
        "# Adding numbers on top of bars\n",
        "for bar in bars_test:\n",
        "    height = bar.get_height()\n",
        "    axes[1].text(bar.get_x() + bar.get_width()/2, height, str(height), ha='center', va='bottom', fontsize=12, fontweight='bold')\n",
        "\n",
        "plt.tight_layout()\n",
        "plt.show()"
      ],
      "metadata": {
        "colab": {
          "base_uri": "https://localhost:8080/",
          "height": 507
        },
        "id": "3NHKGH88ac0p",
        "outputId": "d8cf6ba6-0aba-48b4-a1f8-94e52350c2da"
      },
      "execution_count": null,
      "outputs": [
        {
          "output_type": "display_data",
          "data": {
            "text/plain": [
              "<Figure size 1200x500 with 2 Axes>"
            ],
            "image/png": "[encoded data removed]"
          },
          "metadata": {}
        }
      ]
    },
    {
      "cell_type": "markdown",
      "source": [
        "## **Define PDCOVIDNet Model**"
      ],
      "metadata": {
        "id": "B4pLJ793JJ5p"
      }
    },
    {
      "cell_type": "markdown",
      "source": [
        "The model follows a two-branch parallel dilated convolutional structure, which extracts features using dilated convolutions at different scales."
      ],
      "metadata": {
        "id": "AzVRJjD-rUq0"
      }
    },
    {
      "cell_type": "code",
      "source": [
        "class DilatedConvBlock(nn.Module):\n",
        "    #Define a custom CNN block\n",
        "    #__init__ method is used to initialize the module’s parameters\n",
        "    def __init__(self, in_channels, out_channels, dilation):\n",
        "        super(DilatedConvBlock, self).__init__()\n",
        "        self.conv1 = nn.Conv2d(in_channels, out_channels, kernel_size=3, stride=1, padding = dilation, dilation=dilation)\n",
        "        self.relu1 = nn.ReLU(inplace=True)\n",
        "\n",
        "        self.conv2 = nn.Conv2d(out_channels, out_channels, kernel_size=3, stride=1, padding = dilation, dilation=dilation)\n",
        "        self.relu2 = nn.ReLU(inplace=True)\n",
        "\n",
        "        self.pool = nn.MaxPool2d(kernel_size=2, stride=2)\n",
        "\n",
        "    #Forward pass (Conv → ReLU → Conv → ReLU → MaxPool)\n",
        "    #used to perform the computation that the module represents\n",
        "    def forward(self, x):\n",
        "        x = self.relu1(self.conv1(x))\n",
        "        x = self.relu2(self.conv2(x))\n",
        "        x = self.pool(x)\n",
        "        return x\n",
        "\n",
        "#Main model class\n",
        "class PDCOVIDNet(nn.Module):\n",
        "    def __init__(self, num_classes=3):\n",
        "        super(PDCOVIDNet, self).__init__()\n",
        "\n",
        "        # Branch 1\n",
        "        self.branch1 = nn.Sequential(\n",
        "            DilatedConvBlock(1, 64, dilation=1),\n",
        "            DilatedConvBlock(64, 128, dilation=1),\n",
        "            DilatedConvBlock(128, 256, dilation=1),\n",
        "            DilatedConvBlock(256, 512, dilation=1),\n",
        "            DilatedConvBlock(512, 512, dilation=1),\n",
        "        )\n",
        "\n",
        "        # Branch 2\n",
        "        self.branch2 = nn.Sequential(\n",
        "            DilatedConvBlock(1, 64, dilation=2),\n",
        "            DilatedConvBlock(64, 128, dilation=2),\n",
        "            DilatedConvBlock(128, 256, dilation=2),\n",
        "            DilatedConvBlock(256, 512, dilation=2),\n",
        "            DilatedConvBlock(512, 512, dilation=2),\n",
        "        )\n",
        "\n",
        "        # After element-wise addition\n",
        "        self.conv_fuse = nn.Conv2d(512, 512, kernel_size=3, stride=1, padding=1)\n",
        "\n",
        "        # Fully connected layers\n",
        "        self.fc1 = nn.Linear(512 * 7 * 7, 1024) #nn.Linear(num_inputs, hidden_size)\n",
        "        self.dropout1 = nn.Dropout(0.3)\n",
        "        self.fc2 = nn.Linear(1024, 1024)\n",
        "        self.dropout2 = nn.Dropout(0.3)\n",
        "        self.fc3 = nn.Linear(1024, num_classes)\n",
        "\n",
        "    #mainly starts from here\n",
        "    def forward(self, x):\n",
        "        out1 = self.branch1(x)\n",
        "        out2 = self.branch2(x)\n",
        "\n",
        "        # Element-wise addition\n",
        "        out = out1 + out2 #generates the same shape after addition\n",
        "\n",
        "        # Additional Conv layer after fusion\n",
        "        out = self.conv_fuse(out)\n",
        "\n",
        "        # Flatten the previous output that we got after fusion\n",
        "        out = out.view(out.size(0), -1)\n",
        "\n",
        "        # Fully connected layers (separated operations)\n",
        "        out = self.fc1(out)          # Linear transformation\n",
        "        out = F.relu(out)            # ReLU activation\n",
        "        out = self.dropout1(out)     # Dropout\n",
        "\n",
        "        out = self.fc2(out)          # Linear transformation\n",
        "        out = F.relu(out)            # ReLU activation\n",
        "        out = self.dropout2(out)     # Dropout\n",
        "\n",
        "        out = self.fc3(out)          # Final linear transformation\n",
        "\n",
        "        return out  # CrossEntropyLoss applies LogSoftmax internally"
      ],
      "metadata": {
        "id": "VppwpgdFJKGx"
      },
      "execution_count": null,
      "outputs": []
    },
    {
      "cell_type": "markdown",
      "source": [
        "# **Handle Class Imbalance with Weighted Loss**"
      ],
      "metadata": {
        "id": "tYzY53Z6cWBf"
      }
    },
    {
      "cell_type": "code",
      "source": [
        "# Transforms\n",
        "train_transform = transforms.Compose([\n",
        "    transforms.Resize((224, 224)),\n",
        "    transforms.RandomRotation(30),\n",
        "    transforms.RandomAffine(\n",
        "        degrees=0,\n",
        "        translate=(0.15, 0.15),\n",
        "        scale=(0.9, 1.1),\n",
        "        shear=10,\n",
        "        interpolation=transforms.InterpolationMode.NEAREST\n",
        "    ),\n",
        "    transforms.Grayscale(num_output_channels=1),\n",
        "    transforms.ToTensor()\n",
        "])\n",
        "\n",
        "val_transform = transforms.Compose([\n",
        "    transforms.Resize((224, 224)),\n",
        "    transforms.Grayscale(num_output_channels=1),\n",
        "    transforms.ToTensor()\n",
        "])"
      ],
      "metadata": {
        "id": "Ao1D-Znkj6x9"
      },
      "execution_count": null,
      "outputs": []
    },
    {
      "cell_type": "markdown",
      "source": [
        "## **Create Dataset and Dataloader**\n",
        "The **dataset** loads and labels all images, while the **dataloader** feeds them to model in batches during training or testing"
      ],
      "metadata": {
        "id": "Ew6gAHK6iifs"
      }
    },
    {
      "cell_type": "code",
      "source": [
        "# Load training and test images\n",
        "train_dataset = datasets.ImageFolder(root=train_path, transform=train_transform)\n",
        "test_dataset = datasets.ImageFolder(root=test_path, transform=val_transform)\n",
        "\n",
        "# get class labels and their counts\n",
        "label_to_class = train_dataset.class_to_idx  # {'COVID19': 0, 'PNEUMONIA': 1, 'NORMAL': 2}\n",
        "class_sample_counts = [train_counts[c] for c in label_to_class] #calculating class sample counts\n",
        "\n",
        "#handle imbalance with weighted sampling (inverse frequency: rarer classes get higher weight)\n",
        "weights = 1. / torch.tensor(class_sample_counts, dtype=torch.float)\n",
        "\n",
        "#each sample/image gets a weight depending on its class\n",
        "sample_weights = [weights[label] for _, label in train_dataset]\n",
        "\n",
        "#helps oversample minority classes to make more balanced\n",
        "sampler = WeightedRandomSampler(sample_weights, len(sample_weights), replacement=True)\n",
        "\n",
        "train_loader = DataLoader(train_dataset, batch_size=32, sampler=sampler)\n",
        "test_loader = DataLoader(test_dataset, batch_size=32, shuffle=False)"
      ],
      "metadata": {
        "id": "XyQMeTbKfg4M"
      },
      "execution_count": null,
      "outputs": []
    },
    {
      "cell_type": "code",
      "source": [
        "# Device setup\n",
        "device = torch.device(\"cuda\" if torch.cuda.is_available() else \"cpu\")\n",
        "\n",
        "# Ensure correct class label ordering using label_to_class\n",
        "label_to_class = train_dataset.class_to_idx  # {'COVID19': 0, 'PNEUMONIA': 1, 'NORMAL': 2}\n",
        "class_counts_list = [train_counts[c] for c in label_to_class]  # Get counts in index order\n",
        "\n",
        "# Compute inverse frequency weights and normalize\n",
        "inv_freq_weights = [1.0 / count for count in class_counts_list]\n",
        "\n",
        "# Normalize the weights so they sum to 1\n",
        "norm_weights = [w / sum(inv_freq_weights) for w in inv_freq_weights]\n",
        "\n",
        "# Define the loss function with computed class weights\n",
        "class_weights = torch.FloatTensor(norm_weights).to(device)\n",
        "\n",
        "#define loss function\n",
        "#Cross-entropy loss measures how well the predicted probability distribution matches the true labels by penalizing incorrect confident predictions\n",
        "#applies Softmax and then calculates the log of the probabilities before computing the loss\n",
        "criterion = nn.CrossEntropyLoss(weight=class_weights, label_smoothing=0.0)"
      ],
      "metadata": {
        "id": "b2YBZcu-cCgf"
      },
      "execution_count": null,
      "outputs": []
    },
    {
      "cell_type": "markdown",
      "source": [
        "# **Train the Model**"
      ],
      "metadata": {
        "id": "jDSScRbocdfw"
      }
    },
    {
      "cell_type": "code",
      "source": [
        "# Model setup\n",
        "model = PDCOVIDNet(num_classes=3).to(device)\n",
        "optimizer = optim.Adam(model.parameters(), lr=2e-5)\n",
        "scheduler = optim.lr_scheduler.ReduceLROnPlateau(optimizer, patience=2, factor=0.5)  # Learning rate scheduler\n",
        "\n",
        "# Early stopping parameters\n",
        "best_val_loss = float('inf')\n",
        "patience = 3  # Number of epochs to wait before stopping\n",
        "no_improve = 0  # Counter for epochs without improvement\n",
        "\n",
        "# Training loop with time tracking\n",
        "for epoch in range(20):\n",
        "    start_time = time.time()  # Start timing\n",
        "\n",
        "    model.train()\n",
        "    train_loss = 0.0\n",
        "    total_samples = 0\n",
        "\n",
        "    for images, labels in train_loader:\n",
        "        images, labels = images.to(device), labels.to(device)\n",
        "        optimizer.zero_grad()\n",
        "        outputs = model(images)\n",
        "        loss = criterion(outputs, labels)\n",
        "        loss.backward()\n",
        "        optimizer.step()\n",
        "\n",
        "        train_loss += loss.item() * images.size(0)\n",
        "        total_samples += images.size(0)\n",
        "\n",
        "    avg_train_loss = train_loss / total_samples\n",
        "\n",
        "    end_time = time.time()\n",
        "    epoch_duration = end_time - start_time\n",
        "\n",
        "    # Estimate remaining time\n",
        "    elapsed_time = end_time - start_time\n",
        "    estimated_remaining = epoch_duration * (20 - (epoch + 1))\n",
        "\n",
        "    print(f\"Epoch {epoch+1}: Train Loss = {avg_train_loss:.4f}\")\n",
        "    print(f\"Estimated Time Left: {estimated_remaining/60:.2f} minutes\\n\")"
      ],
      "metadata": {
        "colab": {
          "base_uri": "https://localhost:8080/"
        },
        "id": "BdFYLiR8cVRm",
        "outputId": "1e179d9b-8419-4abf-b773-5f3bf6fefd0a"
      },
      "execution_count": null,
      "outputs": [
        {
          "output_type": "stream",
          "name": "stdout",
          "text": [
            "Epoch 1: Train Loss = 0.8702\n",
            "Estimated Time Left: 93.66 minutes\n",
            "\n",
            "Epoch 2: Train Loss = 0.8303\n",
            "Estimated Time Left: 89.73 minutes\n",
            "\n",
            "Epoch 3: Train Loss = 0.5865\n",
            "Estimated Time Left: 84.57 minutes\n",
            "\n",
            "Epoch 4: Train Loss = 0.4319\n",
            "Estimated Time Left: 80.49 minutes\n",
            "\n",
            "Epoch 5: Train Loss = 0.3567\n",
            "Estimated Time Left: 74.15 minutes\n",
            "\n",
            "Epoch 6: Train Loss = 0.3350\n",
            "Estimated Time Left: 69.36 minutes\n",
            "\n",
            "Epoch 7: Train Loss = 0.2763\n",
            "Estimated Time Left: 64.29 minutes\n",
            "\n",
            "Epoch 8: Train Loss = 0.2454\n",
            "Estimated Time Left: 60.12 minutes\n",
            "\n",
            "Epoch 9: Train Loss = 0.2340\n",
            "Estimated Time Left: 55.08 minutes\n",
            "\n",
            "Epoch 10: Train Loss = 0.2050\n",
            "Estimated Time Left: 49.24 minutes\n",
            "\n",
            "Epoch 11: Train Loss = 0.1753\n",
            "Estimated Time Left: 45.89 minutes\n",
            "\n",
            "Epoch 12: Train Loss = 0.1756\n",
            "Estimated Time Left: 40.08 minutes\n",
            "\n",
            "Epoch 13: Train Loss = 0.1717\n",
            "Estimated Time Left: 35.30 minutes\n",
            "\n",
            "Epoch 14: Train Loss = 0.1712\n",
            "Estimated Time Left: 29.91 minutes\n",
            "\n",
            "Epoch 15: Train Loss = 0.1584\n",
            "Estimated Time Left: 25.10 minutes\n",
            "\n",
            "Epoch 16: Train Loss = 0.1539\n",
            "Estimated Time Left: 19.73 minutes\n",
            "\n",
            "Epoch 17: Train Loss = 0.1296\n",
            "Estimated Time Left: 14.86 minutes\n",
            "\n",
            "Epoch 18: Train Loss = 0.1352\n",
            "Estimated Time Left: 10.10 minutes\n",
            "\n",
            "Epoch 19: Train Loss = 0.1267\n",
            "Estimated Time Left: 4.99 minutes\n",
            "\n",
            "Epoch 20: Train Loss = 0.1297\n",
            "Estimated Time Left: 0.00 minutes\n",
            "\n"
          ]
        }
      ]
    },
    {
      "cell_type": "markdown",
      "source": [
        "# **Evaluate with Macro-Averaged Metrics**"
      ],
      "metadata": {
        "id": "fK6dTywIciMa"
      }
    },
    {
      "cell_type": "code",
      "source": [
        "model.eval()\n",
        "\n",
        "y_true, y_pred = [], []\n",
        "\n",
        "with torch.no_grad():\n",
        "    for images, labels in test_loader:\n",
        "        images, labels = images.to(device), labels.to(device)\n",
        "        outputs = model(images)\n",
        "        _, preds = torch.max(outputs, 1)\n",
        "        y_true.extend(labels.cpu().numpy())\n",
        "        y_pred.extend(preds.cpu().numpy())\n",
        "\n",
        "# Compute and print metrics\n",
        "print('\\n' + '='*50)\n",
        "print('Final Evaluation Metrics on Test Set')\n",
        "print('='*50)\n",
        "print('Recall Score:', recall_score(y_true, y_pred, average='macro'))\n",
        "print('Precision Score:', precision_score(y_true, y_pred, average='macro'))\n",
        "print('Macro Avg. F1 Score:', f1_score(y_true, y_pred, average='macro'))\n",
        "print('Accuracy:', accuracy_score(y_true, y_pred))\n",
        "\n",
        "print('\\nClassification Report:')\n",
        "print(classification_report(\n",
        "    y_true, y_pred,\n",
        "    target_names=['COVID19', 'PNEUMONIA', 'NORMAL'],  # Replace with actual class names if different\n",
        "    digits=4))"
      ],
      "metadata": {
        "id": "rKD7yJbFcWmO",
        "colab": {
          "base_uri": "https://localhost:8080/"
        },
        "outputId": "36456f3b-1e55-4e78-d980-f9841720287f"
      },
      "execution_count": null,
      "outputs": [
        {
          "output_type": "stream",
          "name": "stdout",
          "text": [
            "\n",
            "==================================================\n",
            "Final Evaluation Metrics on Test Set\n",
            "==================================================\n",
            "Recall Score: 0.9434654704857434\n",
            "Precision Score: 0.8924142851500231\n",
            "Macro Avg. F1 Score: 0.9151871529516967\n",
            "Accuracy: 0.9200310559006211\n",
            "\n",
            "Classification Report:\n",
            "              precision    recall  f1-score   support\n",
            "\n",
            "     COVID19     0.8915    0.9914    0.9388       116\n",
            "   PNEUMONIA     0.8110    0.9338    0.8680       317\n",
            "      NORMAL     0.9748    0.9053    0.9388       855\n",
            "\n",
            "    accuracy                         0.9200      1288\n",
            "   macro avg     0.8924    0.9435    0.9152      1288\n",
            "weighted avg     0.9270    0.9200    0.9213      1288\n",
            "\n"
          ]
        }
      ]
    }
  ]
}